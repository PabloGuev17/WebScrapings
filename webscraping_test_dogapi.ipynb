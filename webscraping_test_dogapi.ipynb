{
  "nbformat": 4,
  "nbformat_minor": 0,
  "metadata": {
    "colab": {
      "provenance": [],
      "authorship_tag": "ABX9TyNx4HYHdUGzLKlCqZZbnEd1",
      "include_colab_link": true
    },
    "kernelspec": {
      "name": "python3",
      "display_name": "Python 3"
    },
    "language_info": {
      "name": "python"
    }
  },
  "cells": [
    {
      "cell_type": "markdown",
      "metadata": {
        "id": "view-in-github",
        "colab_type": "text"
      },
      "source": [
        "<a href=\"https://colab.research.google.com/github/PabloGuev17/WebScrapings/blob/main/webscraping_test_dogapi.ipynb\" target=\"_parent\"><img src=\"https://colab.research.google.com/assets/colab-badge.svg\" alt=\"Open In Colab\"/></a>"
      ]
    },
    {
      "cell_type": "code",
      "execution_count": null,
      "metadata": {
        "colab": {
          "base_uri": "https://localhost:8080/"
        },
        "id": "4MwKrsejlgx2",
        "outputId": "19a85bc9-0ced-4ce6-e097-937b57239182"
      },
      "outputs": [
        {
          "output_type": "stream",
          "name": "stdout",
          "text": [
            "Caucasian Shepherd Dog\n"
          ]
        }
      ],
      "source": [
        "import requests\n",
        "import json\n",
        "\n",
        "url = \"https://dogapi.dog/api/v2/breeds\"\n",
        "\n",
        "response = requests.get(url)\n",
        "\n",
        "# data es un diccionario\n",
        "data_dict = json.loads(response.content)\n",
        "\n",
        "## print(json.dumps(data_dict, indent=2))\n",
        "#print(data_dict[\"data\"][0])\n",
        "print(data_dict[\"data\"][0][\"attributes\"][\"name\"])\n"
      ]
    }
  ]
}