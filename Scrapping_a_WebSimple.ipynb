{
  "nbformat": 4,
  "nbformat_minor": 0,
  "metadata": {
    "colab": {
      "provenance": [],
      "authorship_tag": "ABX9TyMcTW7UJeDeMzE6ept2/11b",
      "include_colab_link": true
    },
    "kernelspec": {
      "name": "python3",
      "display_name": "Python 3"
    },
    "language_info": {
      "name": "python"
    }
  },
  "cells": [
    {
      "cell_type": "markdown",
      "metadata": {
        "id": "view-in-github",
        "colab_type": "text"
      },
      "source": [
        "<a href=\"https://colab.research.google.com/github/PabloGuev17/WebScrapings/blob/main/Scrapping_a_WebSimple.ipynb\" target=\"_parent\"><img src=\"https://colab.research.google.com/assets/colab-badge.svg\" alt=\"Open In Colab\"/></a>"
      ]
    },
    {
      "cell_type": "code",
      "execution_count": 15,
      "metadata": {
        "colab": {
          "base_uri": "https://localhost:8080/"
        },
        "id": "EtUxKSB68HYS",
        "outputId": "18a36f8c-2832-4aa0-f85d-81a42ac04717"
      },
      "outputs": [
        {
          "output_type": "stream",
          "name": "stdout",
          "text": [
            "Precipitaciones: 10 mm 🌧️\n"
          ]
        }
      ],
      "source": [
        "from bs4 import BeautifulSoup\n",
        "\n",
        "# abrir el archivo HTML local\n",
        "with open(\"web_simple.html\") as fp:\n",
        "    # crear un objeto BeautifulSoup con el contenido del archivo\n",
        "    soup = BeautifulSoup(fp, \"html.parser\")\n",
        "\n",
        "# ahora puedes manipular el objeto \"soup\"\n",
        "# por ejemplo, puedes imprimir el contenido del archivo HTML\n",
        "#print(soup.prettify())\n",
        "\n",
        "# encontrar el primer tag <h1> en el archivo HTML e imprimir su texto\n",
        "#h1_tag = soup.find(\"h1\")\n",
        "#print(h1_tag.text)\n",
        "\n",
        "# encontrar todos los tags <li> en el archivo HTML\n",
        "#li_tags = soup.find_all(\"li\")\n",
        "#for li_tag in li_tags:\n",
        "#       print(li_tag.text)\n",
        "\n",
        "# encontrar el primer tag <a> en el archivo HTML\n",
        "#a_tag = soup.find(\"a\")\n",
        "#print(a_tag[\"href\"])\n",
        "\n",
        "# encontrar el tag con id \"fecha\" en el archivo HTML\n",
        "#fecha_tag = soup.find(id=\"fecha\")\n",
        "#print(fecha_tag.text)\n",
        "\n",
        "# encontrar el tag con clase \"precipitaciones\" en el archivo HTML\n",
        "#precipitaciones_tag = soup.find(class_=\"precipitaciones\")\n",
        "#print(precipitaciones_tag.text)\n",
        "\n",
        "# encontrar el tag <li> con clase \"precipitaciones\" en el archivo HTML\n",
        "li_tag = soup.find(\"li\", class_=\"precipitaciones\")\n",
        "print(li_tag.text)\n",
        "\n"
      ]
    },
    {
      "cell_type": "code",
      "source": [],
      "metadata": {
        "id": "CkEGCPx---gL"
      },
      "execution_count": null,
      "outputs": []
    },
    {
      "cell_type": "code",
      "source": [],
      "metadata": {
        "id": "H_i0izmA-7TO"
      },
      "execution_count": null,
      "outputs": []
    },
    {
      "cell_type": "code",
      "source": [],
      "metadata": {
        "id": "3FCsDa-3-6Mk"
      },
      "execution_count": null,
      "outputs": []
    },
    {
      "cell_type": "code",
      "source": [],
      "metadata": {
        "id": "sBBiLEwr-xGz"
      },
      "execution_count": null,
      "outputs": []
    },
    {
      "cell_type": "code",
      "source": [],
      "metadata": {
        "id": "AdWn8Acp-fmG"
      },
      "execution_count": null,
      "outputs": []
    }
  ]
}